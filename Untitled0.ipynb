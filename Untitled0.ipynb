{
  "nbformat": 4,
  "nbformat_minor": 0,
  "metadata": {
    "colab": {
      "name": "Untitled0.ipynb",
      "provenance": [],
      "collapsed_sections": [],
      "toc_visible": true,
      "include_colab_link": true
    },
    "kernelspec": {
      "name": "python3",
      "display_name": "Python 3"
    }
  },
  "cells": [
    {
      "cell_type": "markdown",
      "metadata": {
        "id": "view-in-github",
        "colab_type": "text"
      },
      "source": [
        "<a href=\"https://colab.research.google.com/github/pavantirunagari/machinelearning-project/blob/master/Untitled0.ipynb\" target=\"_parent\"><img src=\"https://colab.research.google.com/assets/colab-badge.svg\" alt=\"Open In Colab\"/></a>"
      ]
    },
    {
      "cell_type": "markdown",
      "metadata": {
        "id": "OvoTZmAPVmZN",
        "colab_type": "text"
      },
      "source": [
        "# **Exploratory Data Analysis of a Car showroom**"
      ]
    },
    {
      "cell_type": "markdown",
      "metadata": {
        "id": "iPHGLim-V_QX",
        "colab_type": "text"
      },
      "source": [
        "## 1.1 Importing the required libraries"
      ]
    },
    {
      "cell_type": "code",
      "metadata": {
        "id": "2QIDfXucQqYH",
        "colab_type": "code",
        "colab": {}
      },
      "source": [
        "#importing libraries\n",
        "import numpy as np\n",
        "import pandas as pd\n",
        "import matplotlib.pyplot as plt\n",
        "import seaborn as sns\n",
        "%matplotlib inline"
      ],
      "execution_count": null,
      "outputs": []
    },
    {
      "cell_type": "markdown",
      "metadata": {
        "id": "zBHwMMxEWhPd",
        "colab_type": "text"
      },
      "source": [
        "## 1.2 reading the data and underatanding the data"
      ]
    },
    {
      "cell_type": "code",
      "metadata": {
        "id": "utEfjnSTQ0vW",
        "colab_type": "code",
        "colab": {
          "base_uri": "https://localhost:8080/",
          "height": 202
        },
        "outputId": "0f9a8261-9e3c-4436-b6f1-b4f46420791c"
      },
      "source": [
        "# reading data into the pandas as car_data\n",
        "car_data=pd.read_csv(\"/content/data.csv\")\n",
        "#reading the shape and checking the statistical summary\n",
        "car_data.describe(),car_data.shape"
      ],
      "execution_count": null,
      "outputs": [
        {
          "output_type": "execute_result",
          "data": {
            "text/plain": [
              "(               Year    Engine HP  ...    Popularity          MSRP\n",
              " count  11914.000000  11845.00000  ...  11914.000000  1.191400e+04\n",
              " mean    2010.384338    249.38607  ...   1554.911197  4.059474e+04\n",
              " std        7.579740    109.19187  ...   1441.855347  6.010910e+04\n",
              " min     1990.000000     55.00000  ...      2.000000  2.000000e+03\n",
              " 25%     2007.000000    170.00000  ...    549.000000  2.100000e+04\n",
              " 50%     2015.000000    227.00000  ...   1385.000000  2.999500e+04\n",
              " 75%     2016.000000    300.00000  ...   2009.000000  4.223125e+04\n",
              " max     2017.000000   1001.00000  ...   5657.000000  2.065902e+06\n",
              " \n",
              " [8 rows x 8 columns], (11914, 16))"
            ]
          },
          "metadata": {
            "tags": []
          },
          "execution_count": 4
        }
      ]
    },
    {
      "cell_type": "markdown",
      "metadata": {
        "id": "dn11v9RvW9zq",
        "colab_type": "text"
      },
      "source": [
        "## 2.Getting the basic information of data "
      ]
    },
    {
      "cell_type": "markdown",
      "metadata": {
        "id": "Y4ncfNMBXaKv",
        "colab_type": "text"
      },
      "source": [
        "**Here we will see the what is the datatype of each row and no of non null values.Also we can know the names of each coloumn**"
      ]
    },
    {
      "cell_type": "code",
      "metadata": {
        "id": "5Q0nTNDA_vYb",
        "colab_type": "code",
        "colab": {
          "base_uri": "https://localhost:8080/",
          "height": 403
        },
        "outputId": "c2462660-07f3-48ce-a40b-b1b1e60b1f49"
      },
      "source": [
        "car_data.info()"
      ],
      "execution_count": null,
      "outputs": [
        {
          "output_type": "stream",
          "text": [
            "<class 'pandas.core.frame.DataFrame'>\n",
            "RangeIndex: 11914 entries, 0 to 11913\n",
            "Data columns (total 16 columns):\n",
            " #   Column             Non-Null Count  Dtype  \n",
            "---  ------             --------------  -----  \n",
            " 0   Make               11914 non-null  object \n",
            " 1   Model              11914 non-null  object \n",
            " 2   Year               11914 non-null  int64  \n",
            " 3   Engine Fuel Type   11911 non-null  object \n",
            " 4   Engine HP          11845 non-null  float64\n",
            " 5   Engine Cylinders   11884 non-null  float64\n",
            " 6   Transmission Type  11914 non-null  object \n",
            " 7   Driven_Wheels      11914 non-null  object \n",
            " 8   Number of Doors    11908 non-null  float64\n",
            " 9   Market Category    8172 non-null   object \n",
            " 10  Vehicle Size       11914 non-null  object \n",
            " 11  Vehicle Style      11914 non-null  object \n",
            " 12  highway MPG        11914 non-null  int64  \n",
            " 13  city mpg           11914 non-null  int64  \n",
            " 14  Popularity         11914 non-null  int64  \n",
            " 15  MSRP               11914 non-null  int64  \n",
            "dtypes: float64(3), int64(5), object(8)\n",
            "memory usage: 1.5+ MB\n"
          ],
          "name": "stdout"
        }
      ]
    },
    {
      "cell_type": "markdown",
      "metadata": {
        "id": "pcnLMEhJYWHd",
        "colab_type": "text"
      },
      "source": [
        "**By observing the non null values we can see that the column Market Catogery has the more number of null values.So it is better to drop out this column.And by observing the columns we can know that the number of rows and engine fuel type also didn't show impact on the model.So we can drop those as well**"
      ]
    },
    {
      "cell_type": "code",
      "metadata": {
        "id": "AjCGhS4IAJwz",
        "colab_type": "code",
        "colab": {
          "base_uri": "https://localhost:8080/",
          "height": 353
        },
        "outputId": "476b503d-8315-43d5-ff34-326918a605b2"
      },
      "source": [
        "car_data=car_data.drop(columns=[\"Market Category\",\"Number of Doors\",\"Engine Fuel Type\"])\n",
        "car_data.info()"
      ],
      "execution_count": null,
      "outputs": [
        {
          "output_type": "stream",
          "text": [
            "<class 'pandas.core.frame.DataFrame'>\n",
            "RangeIndex: 11914 entries, 0 to 11913\n",
            "Data columns (total 13 columns):\n",
            " #   Column             Non-Null Count  Dtype  \n",
            "---  ------             --------------  -----  \n",
            " 0   Make               11914 non-null  object \n",
            " 1   Model              11914 non-null  object \n",
            " 2   Year               11914 non-null  int64  \n",
            " 3   Engine HP          11845 non-null  float64\n",
            " 4   Engine Cylinders   11884 non-null  float64\n",
            " 5   Transmission Type  11914 non-null  object \n",
            " 6   Driven_Wheels      11914 non-null  object \n",
            " 7   Vehicle Size       11914 non-null  object \n",
            " 8   Vehicle Style      11914 non-null  object \n",
            " 9   highway MPG        11914 non-null  int64  \n",
            " 10  city mpg           11914 non-null  int64  \n",
            " 11  Popularity         11914 non-null  int64  \n",
            " 12  MSRP               11914 non-null  int64  \n",
            "dtypes: float64(2), int64(5), object(6)\n",
            "memory usage: 1.2+ MB\n"
          ],
          "name": "stdout"
        }
      ]
    },
    {
      "cell_type": "markdown",
      "metadata": {
        "id": "PHtjP_-jZScr",
        "colab_type": "text"
      },
      "source": [
        "## 3.Renaming the columns"
      ]
    },
    {
      "cell_type": "code",
      "metadata": {
        "id": "oWDwz5qiE08Q",
        "colab_type": "code",
        "colab": {
          "base_uri": "https://localhost:8080/",
          "height": 353
        },
        "outputId": "333bce5f-dffc-4e02-9361-9c60120c4e4a"
      },
      "source": [
        "car_data.rename(columns={'Engine HP':'HP','Engine Cylinders':'Cylinders','Transmission Type':'Transmission','Driven_Wheels':'Drive Mode','highway MPG':'MPG-H','city mpg':'MPG-C','MSRP':'Price'},inplace=True)\n",
        "car_data.info()"
      ],
      "execution_count": null,
      "outputs": [
        {
          "output_type": "stream",
          "text": [
            "<class 'pandas.core.frame.DataFrame'>\n",
            "RangeIndex: 11914 entries, 0 to 11913\n",
            "Data columns (total 13 columns):\n",
            " #   Column         Non-Null Count  Dtype  \n",
            "---  ------         --------------  -----  \n",
            " 0   Make           11914 non-null  object \n",
            " 1   Model          11914 non-null  object \n",
            " 2   Year           11914 non-null  int64  \n",
            " 3   HP             11845 non-null  float64\n",
            " 4   Cylinders      11884 non-null  float64\n",
            " 5   Transmission   11914 non-null  object \n",
            " 6   Drive Mode     11914 non-null  object \n",
            " 7   Vehicle Size   11914 non-null  object \n",
            " 8   Vehicle Style  11914 non-null  object \n",
            " 9   MPG-H          11914 non-null  int64  \n",
            " 10  MPG-C          11914 non-null  int64  \n",
            " 11  Popularity     11914 non-null  int64  \n",
            " 12  Price          11914 non-null  int64  \n",
            "dtypes: float64(2), int64(5), object(6)\n",
            "memory usage: 1.2+ MB\n"
          ],
          "name": "stdout"
        }
      ]
    },
    {
      "cell_type": "markdown",
      "metadata": {
        "id": "I3296OxvZp9K",
        "colab_type": "text"
      },
      "source": [
        "## 4.1 Checking for any duplicate values"
      ]
    },
    {
      "cell_type": "code",
      "metadata": {
        "id": "mg1bx6Fu1FO1",
        "colab_type": "code",
        "colab": {
          "base_uri": "https://localhost:8080/",
          "height": 252
        },
        "outputId": "b27ecf2c-05cd-4a2a-de29-686b7e396fce"
      },
      "source": [
        "car_data_duplicate=car_data[car_data.duplicated()]\n",
        "car_data_duplicate,car_data_duplicate.shape"
      ],
      "execution_count": null,
      "outputs": [
        {
          "output_type": "execute_result",
          "data": {
            "text/plain": [
              "(         Make     Model  Year     HP  ...  MPG-H MPG-C Popularity  Price\n",
              " 14        BMW  1 Series  2013  230.0  ...     28    19       3916  31500\n",
              " 18       Audi       100  1992  172.0  ...     24    17       3105   2000\n",
              " 20       Audi       100  1992  172.0  ...     24    17       3105   2000\n",
              " 24       Audi       100  1993  172.0  ...     24    17       3105   2000\n",
              " 25       Audi       100  1993  172.0  ...     24    17       3105   2000\n",
              " ...       ...       ...   ...    ...  ...    ...   ...        ...    ...\n",
              " 11481  Suzuki      X-90  1998   95.0  ...     26    22        481   2000\n",
              " 11603   Volvo      XC60  2017  302.0  ...     29    20        870  46350\n",
              " 11604   Volvo      XC60  2017  240.0  ...     30    23        870  40950\n",
              " 11708  Suzuki       XL7  2008  252.0  ...     22    15        481  29149\n",
              " 11717  Suzuki       XL7  2008  252.0  ...     22    16        481  27499\n",
              " \n",
              " [792 rows x 13 columns], (792, 13))"
            ]
          },
          "metadata": {
            "tags": []
          },
          "execution_count": 8
        }
      ]
    },
    {
      "cell_type": "markdown",
      "metadata": {
        "id": "LycAoBwvZ-t1",
        "colab_type": "text"
      },
      "source": [
        "## 4.2 Removing the duplicates"
      ]
    },
    {
      "cell_type": "code",
      "metadata": {
        "id": "8O63rBOt6DRF",
        "colab_type": "code",
        "colab": {
          "base_uri": "https://localhost:8080/",
          "height": 353
        },
        "outputId": "030d5f40-1cca-40b6-f2a8-3a01c43f3e9c"
      },
      "source": [
        "car_data.drop_duplicates(inplace=True)\n",
        "car_data.info()"
      ],
      "execution_count": null,
      "outputs": [
        {
          "output_type": "stream",
          "text": [
            "<class 'pandas.core.frame.DataFrame'>\n",
            "Int64Index: 11122 entries, 0 to 11913\n",
            "Data columns (total 13 columns):\n",
            " #   Column         Non-Null Count  Dtype  \n",
            "---  ------         --------------  -----  \n",
            " 0   Make           11122 non-null  object \n",
            " 1   Model          11122 non-null  object \n",
            " 2   Year           11122 non-null  int64  \n",
            " 3   HP             11053 non-null  float64\n",
            " 4   Cylinders      11092 non-null  float64\n",
            " 5   Transmission   11122 non-null  object \n",
            " 6   Drive Mode     11122 non-null  object \n",
            " 7   Vehicle Size   11122 non-null  object \n",
            " 8   Vehicle Style  11122 non-null  object \n",
            " 9   MPG-H          11122 non-null  int64  \n",
            " 10  MPG-C          11122 non-null  int64  \n",
            " 11  Popularity     11122 non-null  int64  \n",
            " 12  Price          11122 non-null  int64  \n",
            "dtypes: float64(2), int64(5), object(6)\n",
            "memory usage: 1.2+ MB\n"
          ],
          "name": "stdout"
        }
      ]
    },
    {
      "cell_type": "markdown",
      "metadata": {
        "id": "XyZtQg7NaQXd",
        "colab_type": "text"
      },
      "source": [
        "## 4.3 Filling the nan values"
      ]
    },
    {
      "cell_type": "markdown",
      "metadata": {
        "id": "x4lyeVhuag0X",
        "colab_type": "text"
      },
      "source": [
        "**As we can see from the above info there are some nan values in the data.For constructing a machine learning model there should not be any nan value present in the data.We can remove the nan values.But instead of removing if we replace the nan valuesit gives more data for the machine model to give more accuracy**"
      ]
    },
    {
      "cell_type": "code",
      "metadata": {
        "id": "lQHecmaj6qfz",
        "colab_type": "code",
        "colab": {
          "base_uri": "https://localhost:8080/",
          "height": 353
        },
        "outputId": "615da56e-9e03-47c8-d780-707e360c152a"
      },
      "source": [
        "car_data.fillna(method='ffill',inplace=True)\n",
        "car_data.info()"
      ],
      "execution_count": null,
      "outputs": [
        {
          "output_type": "stream",
          "text": [
            "<class 'pandas.core.frame.DataFrame'>\n",
            "Int64Index: 11122 entries, 0 to 11913\n",
            "Data columns (total 13 columns):\n",
            " #   Column         Non-Null Count  Dtype  \n",
            "---  ------         --------------  -----  \n",
            " 0   Make           11122 non-null  object \n",
            " 1   Model          11122 non-null  object \n",
            " 2   Year           11122 non-null  int64  \n",
            " 3   HP             11122 non-null  float64\n",
            " 4   Cylinders      11122 non-null  float64\n",
            " 5   Transmission   11122 non-null  object \n",
            " 6   Drive Mode     11122 non-null  object \n",
            " 7   Vehicle Size   11122 non-null  object \n",
            " 8   Vehicle Style  11122 non-null  object \n",
            " 9   MPG-H          11122 non-null  int64  \n",
            " 10  MPG-C          11122 non-null  int64  \n",
            " 11  Popularity     11122 non-null  int64  \n",
            " 12  Price          11122 non-null  int64  \n",
            "dtypes: float64(2), int64(5), object(6)\n",
            "memory usage: 1.2+ MB\n"
          ],
          "name": "stdout"
        }
      ]
    },
    {
      "cell_type": "markdown",
      "metadata": {
        "id": "4uKHXJxic8ik",
        "colab_type": "text"
      },
      "source": [
        "## 5.Box plotting to check outliers and removing outliers"
      ]
    },
    {
      "cell_type": "code",
      "metadata": {
        "id": "l56OcS6u8xkM",
        "colab_type": "code",
        "colab": {
          "base_uri": "https://localhost:8080/",
          "height": 296
        },
        "outputId": "42f79193-34c8-480d-f416-9e2489c8a56e"
      },
      "source": [
        "sns.boxplot(car_data['HP'])\n"
      ],
      "execution_count": null,
      "outputs": [
        {
          "output_type": "execute_result",
          "data": {
            "text/plain": [
              "<matplotlib.axes._subplots.AxesSubplot at 0x7f5bea802f28>"
            ]
          },
          "metadata": {
            "tags": []
          },
          "execution_count": 11
        },
        {
          "output_type": "display_data",
          "data": {
            "image/png": "[encoded data removed]",
            "text/plain": [
              "<Figure size 432x288 with 1 Axes>"
            ]
          },
          "metadata": {
            "tags": [],
            "needs_background": "light"
          }
        }
      ]
    },
    {
      "cell_type": "code",
      "metadata": {
        "id": "HUB1b_M4xC7P",
        "colab_type": "code",
        "colab": {
          "base_uri": "https://localhost:8080/",
          "height": 296
        },
        "outputId": "0f02dd1b-62c9-46f1-8f7f-d4072f7bfff6"
      },
      "source": [
        "sns.boxplot(car_data['Cylinders'])"
      ],
      "execution_count": null,
      "outputs": [
        {
          "output_type": "execute_result",
          "data": {
            "text/plain": [
              "<matplotlib.axes._subplots.AxesSubplot at 0x7f5bea6f56a0>"
            ]
          },
          "metadata": {
            "tags": []
          },
          "execution_count": 12
        },
        {
          "output_type": "display_data",
          "data": {
            "image/png": "[encoded data removed]",
            "text/plain": [
              "<Figure size 432x288 with 1 Axes>"
            ]
          },
          "metadata": {
            "tags": [],
            "needs_background": "light"
          }
        }
      ]
    },
    {
      "cell_type": "code",
      "metadata": {
        "id": "dFqOHIUnxLey",
        "colab_type": "code",
        "colab": {
          "base_uri": "https://localhost:8080/",
          "height": 296
        },
        "outputId": "4cd6b8da-3877-40b8-ce45-a198ccb197c6"
      },
      "source": [
        "sns.boxplot(car_data['MPG-H'])"
      ],
      "execution_count": null,
      "outputs": [
        {
          "output_type": "execute_result",
          "data": {
            "text/plain": [
              "<matplotlib.axes._subplots.AxesSubplot at 0x7f5bea213c18>"
            ]
          },
          "metadata": {
            "tags": []
          },
          "execution_count": 13
        },
        {
          "output_type": "display_data",
          "data": {
            "image/png": "[encoded data removed]",
            "text/plain": [
              "<Figure size 432x288 with 1 Axes>"
            ]
          },
          "metadata": {
            "tags": [],
            "needs_background": "light"
          }
        }
      ]
    },
    {
      "cell_type": "code",
      "metadata": {
        "id": "ovVKFZD2xfLN",
        "colab_type": "code",
        "colab": {
          "base_uri": "https://localhost:8080/",
          "height": 296
        },
        "outputId": "8c5960db-d4bc-437e-b9d7-dae61837c4ee"
      },
      "source": [
        "sns.boxplot(car_data['MPG-C'])"
      ],
      "execution_count": null,
      "outputs": [
        {
          "output_type": "execute_result",
          "data": {
            "text/plain": [
              "<matplotlib.axes._subplots.AxesSubplot at 0x7f5bea180470>"
            ]
          },
          "metadata": {
            "tags": []
          },
          "execution_count": 14
        },
        {
          "output_type": "display_data",
          "data": {
            "image/png": "[encoded data removed]",
            "text/plain": [
              "<Figure size 432x288 with 1 Axes>"
            ]
          },
          "metadata": {
            "tags": [],
            "needs_background": "light"
          }
        }
      ]
    },
    {
      "cell_type": "code",
      "metadata": {
        "id": "TFgdFC8WxmJ1",
        "colab_type": "code",
        "colab": {
          "base_uri": "https://localhost:8080/",
          "height": 296
        },
        "outputId": "99b69295-f290-4765-b03e-13b4a78e427c"
      },
      "source": [
        "sns.boxplot(car_data['Popularity'])"
      ],
      "execution_count": null,
      "outputs": [
        {
          "output_type": "execute_result",
          "data": {
            "text/plain": [
              "<matplotlib.axes._subplots.AxesSubplot at 0x7f5bea1802e8>"
            ]
          },
          "metadata": {
            "tags": []
          },
          "execution_count": 15
        },
        {
          "output_type": "display_data",
          "data": {
            "image/png": "[encoded data removed]",
            "text/plain": [
              "<Figure size 432x288 with 1 Axes>"
            ]
          },
          "metadata": {
            "tags": [],
            "needs_background": "light"
          }
        }
      ]
    },
    {
      "cell_type": "code",
      "metadata": {
        "id": "5fmGK7Zrx86t",
        "colab_type": "code",
        "colab": {
          "base_uri": "https://localhost:8080/",
          "height": 296
        },
        "outputId": "d1342cd7-d810-4b1e-a83f-8ba0f3d21fb2"
      },
      "source": [
        "sns.boxplot(car_data['Price'])"
      ],
      "execution_count": null,
      "outputs": [
        {
          "output_type": "execute_result",
          "data": {
            "text/plain": [
              "<matplotlib.axes._subplots.AxesSubplot at 0x7f5bea6fee80>"
            ]
          },
          "metadata": {
            "tags": []
          },
          "execution_count": 16
        },
        {
          "output_type": "display_data",
          "data": {
            "image/png": "[encoded data removed]",
            "text/plain": [
              "<Figure size 432x288 with 1 Axes>"
            ]
          },
          "metadata": {
            "tags": [],
            "needs_background": "light"
          }
        }
      ]
    },
    {
      "cell_type": "code",
      "metadata": {
        "id": "uabnGNXtyCnz",
        "colab_type": "code",
        "colab": {
          "base_uri": "https://localhost:8080/",
          "height": 34
        },
        "outputId": "34a8d1e3-aa77-4a6b-9cc8-a6b3e9d02ab2"
      },
      "source": [
        "Q1=car_data.quantile(0.25)\n",
        "Q2=car_data.quantile(0.75)\n",
        "IQR=Q2-Q1\n",
        "car_data=car_data[~((car_data<(Q1-1.5*IQR))|(car_data>(Q2+1.5*IQR))).any(axis=1)]\n",
        "car_data.shape"
      ],
      "execution_count": null,
      "outputs": [
        {
          "output_type": "execute_result",
          "data": {
            "text/plain": [
              "(8576, 13)"
            ]
          },
          "metadata": {
            "tags": []
          },
          "execution_count": 17
        }
      ]
    },
    {
      "cell_type": "markdown",
      "metadata": {
        "id": "k05HEsHa96Nf",
        "colab_type": "text"
      },
      "source": [
        "## 6.Most represented car brands"
      ]
    },
    {
      "cell_type": "code",
      "metadata": {
        "id": "s5QqoSjH3up5",
        "colab_type": "code",
        "colab": {
          "base_uri": "https://localhost:8080/",
          "height": 607
        },
        "outputId": "435d8ed9-a2b1-42e4-ccf7-58d12f61d3c1"
      },
      "source": [
        "brand_count=car_data['Make'].value_counts()*100/sum(car_data['Make'].value_counts())\n",
        "popular_brands=brand_count.index[:10]\n",
        "plt.figure(figsize=(10,10))\n",
        "plt.bar(popular_brands,brand_count[0:10])\n",
        "plt.title('top car brands')\n",
        "plt.show()"
      ],
      "execution_count": null,
      "outputs": [
        {
          "output_type": "display_data",
          "data": {
            "image/png": "[encoded data removed]",
            "text/plain": [
              "<Figure size 720x720 with 1 Axes>"
            ]
          },
          "metadata": {
            "tags": [],
            "needs_background": "light"
          }
        }
      ]
    },
    {
      "cell_type": "code",
      "metadata": {
        "id": "6Frb0Pjh_PfA",
        "colab_type": "code",
        "colab": {
          "base_uri": "https://localhost:8080/",
          "height": 373
        },
        "outputId": "466b68cd-16b6-4ec3-8fda-b06e58e6d7d6"
      },
      "source": [
        "avg_prices=car_data[['Make','Price']].loc[(car_data['Make']=='Chevrolet')|\n",
        "                                          (car_data['Make']=='Toyota')|\n",
        "                                          (car_data['Make']=='Volkswagen')|\n",
        "                                          (car_data['Make']=='Nissan')|\n",
        "                                          (car_data['Make']=='GMC')|\n",
        "                                          (car_data['Make']=='Dodge')|\n",
        "                                          (car_data['Make']=='Mazda')|\n",
        "                                          (car_data['Make']=='Honda')|\n",
        "                                          (car_data['Make']=='Suzuki')|\n",
        "                                          (car_data['Make']=='Infiniti')].groupby('Make').mean()\n",
        "avg_prices"
      ],
      "execution_count": null,
      "outputs": [
        {
          "output_type": "execute_result",
          "data": {
            "text/html": [
              "<div>\n",
              "<style scoped>\n",
              "    .dataframe tbody tr th:only-of-type {\n",
              "        vertical-align: middle;\n",
              "    }\n",
              "\n",
              "    .dataframe tbody tr th {\n",
              "        vertical-align: top;\n",
              "    }\n",
              "\n",
              "    .dataframe thead th {\n",
              "        text-align: right;\n",
              "    }\n",
              "</style>\n",
              "<table border=\"1\" class=\"dataframe\">\n",
              "  <thead>\n",
              "    <tr style=\"text-align: right;\">\n",
              "      <th></th>\n",
              "      <th>Price</th>\n",
              "    </tr>\n",
              "    <tr>\n",
              "      <th>Make</th>\n",
              "      <th></th>\n",
              "    </tr>\n",
              "  </thead>\n",
              "  <tbody>\n",
              "    <tr>\n",
              "      <th>Chevrolet</th>\n",
              "      <td>28207.045499</td>\n",
              "    </tr>\n",
              "    <tr>\n",
              "      <th>Dodge</th>\n",
              "      <td>26076.722353</td>\n",
              "    </tr>\n",
              "    <tr>\n",
              "      <th>GMC</th>\n",
              "      <td>33261.400853</td>\n",
              "    </tr>\n",
              "    <tr>\n",
              "      <th>Honda</th>\n",
              "      <td>27381.364611</td>\n",
              "    </tr>\n",
              "    <tr>\n",
              "      <th>Infiniti</th>\n",
              "      <td>43127.822981</td>\n",
              "    </tr>\n",
              "    <tr>\n",
              "      <th>Mazda</th>\n",
              "      <td>20830.670025</td>\n",
              "    </tr>\n",
              "    <tr>\n",
              "      <th>Nissan</th>\n",
              "      <td>28352.543860</td>\n",
              "    </tr>\n",
              "    <tr>\n",
              "      <th>Suzuki</th>\n",
              "      <td>18168.241888</td>\n",
              "    </tr>\n",
              "    <tr>\n",
              "      <th>Toyota</th>\n",
              "      <td>27769.421793</td>\n",
              "    </tr>\n",
              "    <tr>\n",
              "      <th>Volkswagen</th>\n",
              "      <td>29032.817476</td>\n",
              "    </tr>\n",
              "  </tbody>\n",
              "</table>\n",
              "</div>"
            ],
            "text/plain": [
              "                   Price\n",
              "Make                    \n",
              "Chevrolet   28207.045499\n",
              "Dodge       26076.722353\n",
              "GMC         33261.400853\n",
              "Honda       27381.364611\n",
              "Infiniti    43127.822981\n",
              "Mazda       20830.670025\n",
              "Nissan      28352.543860\n",
              "Suzuki      18168.241888\n",
              "Toyota      27769.421793\n",
              "Volkswagen  29032.817476"
            ]
          },
          "metadata": {
            "tags": []
          },
          "execution_count": 19
        }
      ]
    },
    {
      "cell_type": "markdown",
      "metadata": {
        "id": "PLXUWoBRq7xZ",
        "colab_type": "text"
      },
      "source": [
        "## 7.correlation matrix"
      ]
    },
    {
      "cell_type": "markdown",
      "metadata": {
        "id": "ttA6H6o5t9kW",
        "colab_type": "text"
      },
      "source": [
        "**plotting the correlation matrix**"
      ]
    },
    {
      "cell_type": "code",
      "metadata": {
        "id": "tIaTSDPjq4hv",
        "colab_type": "code",
        "colab": {
          "base_uri": "https://localhost:8080/",
          "height": 254
        },
        "outputId": "c4c0c40f-a5e7-40e6-974e-60c8b985bc8a"
      },
      "source": [
        "car_data.corr()"
      ],
      "execution_count": null,
      "outputs": [
        {
          "output_type": "execute_result",
          "data": {
            "text/html": [
              "<div>\n",
              "<style scoped>\n",
              "    .dataframe tbody tr th:only-of-type {\n",
              "        vertical-align: middle;\n",
              "    }\n",
              "\n",
              "    .dataframe tbody tr th {\n",
              "        vertical-align: top;\n",
              "    }\n",
              "\n",
              "    .dataframe thead th {\n",
              "        text-align: right;\n",
              "    }\n",
              "</style>\n",
              "<table border=\"1\" class=\"dataframe\">\n",
              "  <thead>\n",
              "    <tr style=\"text-align: right;\">\n",
              "      <th></th>\n",
              "      <th>Year</th>\n",
              "      <th>HP</th>\n",
              "      <th>Cylinders</th>\n",
              "      <th>MPG-H</th>\n",
              "      <th>MPG-C</th>\n",
              "      <th>Popularity</th>\n",
              "      <th>Price</th>\n",
              "    </tr>\n",
              "  </thead>\n",
              "  <tbody>\n",
              "    <tr>\n",
              "      <th>Year</th>\n",
              "      <td>1.000000</td>\n",
              "      <td>0.325029</td>\n",
              "      <td>-0.106530</td>\n",
              "      <td>0.373126</td>\n",
              "      <td>0.335017</td>\n",
              "      <td>0.200499</td>\n",
              "      <td>0.592008</td>\n",
              "    </tr>\n",
              "    <tr>\n",
              "      <th>HP</th>\n",
              "      <td>0.325029</td>\n",
              "      <td>1.000000</td>\n",
              "      <td>0.733501</td>\n",
              "      <td>-0.452827</td>\n",
              "      <td>-0.554034</td>\n",
              "      <td>0.094568</td>\n",
              "      <td>0.745424</td>\n",
              "    </tr>\n",
              "    <tr>\n",
              "      <th>Cylinders</th>\n",
              "      <td>-0.106530</td>\n",
              "      <td>0.733501</td>\n",
              "      <td>1.000000</td>\n",
              "      <td>-0.691566</td>\n",
              "      <td>-0.746529</td>\n",
              "      <td>0.012499</td>\n",
              "      <td>0.388570</td>\n",
              "    </tr>\n",
              "    <tr>\n",
              "      <th>MPG-H</th>\n",
              "      <td>0.373126</td>\n",
              "      <td>-0.452827</td>\n",
              "      <td>-0.691566</td>\n",
              "      <td>1.000000</td>\n",
              "      <td>0.937005</td>\n",
              "      <td>0.094043</td>\n",
              "      <td>-0.120851</td>\n",
              "    </tr>\n",
              "    <tr>\n",
              "      <th>MPG-C</th>\n",
              "      <td>0.335017</td>\n",
              "      <td>-0.554034</td>\n",
              "      <td>-0.746529</td>\n",
              "      <td>0.937005</td>\n",
              "      <td>1.000000</td>\n",
              "      <td>0.082408</td>\n",
              "      <td>-0.196935</td>\n",
              "    </tr>\n",
              "    <tr>\n",
              "      <th>Popularity</th>\n",
              "      <td>0.200499</td>\n",
              "      <td>0.094568</td>\n",
              "      <td>0.012499</td>\n",
              "      <td>0.094043</td>\n",
              "      <td>0.082408</td>\n",
              "      <td>1.000000</td>\n",
              "      <td>0.112513</td>\n",
              "    </tr>\n",
              "    <tr>\n",
              "      <th>Price</th>\n",
              "      <td>0.592008</td>\n",
              "      <td>0.745424</td>\n",
              "      <td>0.388570</td>\n",
              "      <td>-0.120851</td>\n",
              "      <td>-0.196935</td>\n",
              "      <td>0.112513</td>\n",
              "      <td>1.000000</td>\n",
              "    </tr>\n",
              "  </tbody>\n",
              "</table>\n",
              "</div>"
            ],
            "text/plain": [
              "                Year        HP  Cylinders  ...     MPG-C  Popularity     Price\n",
              "Year        1.000000  0.325029  -0.106530  ...  0.335017    0.200499  0.592008\n",
              "HP          0.325029  1.000000   0.733501  ... -0.554034    0.094568  0.745424\n",
              "Cylinders  -0.106530  0.733501   1.000000  ... -0.746529    0.012499  0.388570\n",
              "MPG-H       0.373126 -0.452827  -0.691566  ...  0.937005    0.094043 -0.120851\n",
              "MPG-C       0.335017 -0.554034  -0.746529  ...  1.000000    0.082408 -0.196935\n",
              "Popularity  0.200499  0.094568   0.012499  ...  0.082408    1.000000  0.112513\n",
              "Price       0.592008  0.745424   0.388570  ... -0.196935    0.112513  1.000000\n",
              "\n",
              "[7 rows x 7 columns]"
            ]
          },
          "metadata": {
            "tags": []
          },
          "execution_count": 20
        }
      ]
    },
    {
      "cell_type": "markdown",
      "metadata": {
        "id": "ItAiPff9uGfL",
        "colab_type": "text"
      },
      "source": [
        "**plotting the heat map**"
      ]
    },
    {
      "cell_type": "code",
      "metadata": {
        "id": "PbJ4uMCYrVQe",
        "colab_type": "code",
        "colab": {
          "base_uri": "https://localhost:8080/",
          "height": 341
        },
        "outputId": "965c692a-3009-497b-d2e1-6a592bfffc3a"
      },
      "source": [
        "plt.figure(figsize=(10,5))\n",
        "sns.heatmap(car_data.corr(),annot=True)"
      ],
      "execution_count": null,
      "outputs": [
        {
          "output_type": "execute_result",
          "data": {
            "text/plain": [
              "<matplotlib.axes._subplots.AxesSubplot at 0x7f5bea0d8f60>"
            ]
          },
          "metadata": {
            "tags": []
          },
          "execution_count": 21
        },
        {
          "output_type": "display_data",
          "data": {
            "image/png": "[encoded data removed]",
            "text/plain": [
              "<Figure size 720x360 with 2 Axes>"
            ]
          },
          "metadata": {
            "tags": [],
            "needs_background": "light"
          }
        }
      ]
    },
    {
      "cell_type": "markdown",
      "metadata": {
        "id": "P27VxDVcs2wL",
        "colab_type": "text"
      },
      "source": [
        "**From the above heat map we can say that the price hily dependent on the HP, Cylinders and the manufactured year.**\n",
        "\n",
        "i.e if the HP and NO of Cylinders are high then the price of the car is also high.\n",
        "\n",
        "**similarly HP and cylinders are also highly correlated.**\n",
        "\n",
        "i.e if the no of cylinders are increased the HP is also increased."
      ]
    },
    {
      "cell_type": "markdown",
      "metadata": {
        "id": "mkK2qex-xxmC",
        "colab_type": "text"
      },
      "source": [
        "### **anti correlation**\n",
        "\n",
        "Here the Cylinders and MPG-C have high anti correlation"
      ]
    },
    {
      "cell_type": "markdown",
      "metadata": {
        "id": "BxgGw07ssIPB",
        "colab_type": "text"
      },
      "source": [
        "## 8.Plotting different graphs"
      ]
    },
    {
      "cell_type": "code",
      "metadata": {
        "id": "JORREK1trmQr",
        "colab_type": "code",
        "colab": {
          "base_uri": "https://localhost:8080/",
          "height": 623
        },
        "outputId": "b4ccd8e3-e2db-45b5-d211-c0df429f95d7"
      },
      "source": [
        "plt.figure(figsize=(10,10))\n",
        "sns.barplot(car_data['Price'],car_data['HP'])"
      ],
      "execution_count": null,
      "outputs": [
        {
          "output_type": "execute_result",
          "data": {
            "text/plain": [
              "<matplotlib.axes._subplots.AxesSubplot at 0x7f5be8d38828>"
            ]
          },
          "metadata": {
            "tags": []
          },
          "execution_count": 22
        },
        {
          "output_type": "display_data",
          "data": {
            "image/png": "[encoded data removed]",
            "text/plain": [
              "<Figure size 720x720 with 1 Axes>"
            ]
          },
          "metadata": {
            "tags": [],
            "needs_background": "light"
          }
        }
      ]
    },
    {
      "cell_type": "code",
      "metadata": {
        "id": "YTTO7gQ4uXgO",
        "colab_type": "code",
        "colab": {
          "base_uri": "https://localhost:8080/",
          "height": 623
        },
        "outputId": "be017284-a3d1-41c8-d457-4483f02cda86"
      },
      "source": [
        "plt.figure(figsize=(10,10))\n",
        "sns.barplot(car_data['Year'],car_data['Price'])"
      ],
      "execution_count": null,
      "outputs": [
        {
          "output_type": "execute_result",
          "data": {
            "text/plain": [
              "<matplotlib.axes._subplots.AxesSubplot at 0x7f5bea1c58d0>"
            ]
          },
          "metadata": {
            "tags": []
          },
          "execution_count": 23
        },
        {
          "output_type": "display_data",
          "data": {
            "image/png": "[encoded data removed]",
            "text/plain": [
              "<Figure size 720x720 with 1 Axes>"
            ]
          },
          "metadata": {
            "tags": [],
            "needs_background": "light"
          }
        }
      ]
    },
    {
      "cell_type": "code",
      "metadata": {
        "id": "l47WffyI3Dn8",
        "colab_type": "code",
        "colab": {
          "base_uri": "https://localhost:8080/",
          "height": 623
        },
        "outputId": "d85145ac-5ab7-474a-d296-2542205f9064"
      },
      "source": [
        "plt.figure(figsize=(10,10))\n",
        "sns.barplot(car_data['MPG-H'],car_data['Price'])"
      ],
      "execution_count": null,
      "outputs": [
        {
          "output_type": "execute_result",
          "data": {
            "text/plain": [
              "<matplotlib.axes._subplots.AxesSubplot at 0x7f5be5d06710>"
            ]
          },
          "metadata": {
            "tags": []
          },
          "execution_count": 24
        },
        {
          "output_type": "display_data",
          "data": {
            "image/png": "[encoded data removed]",
            "text/plain": [
              "<Figure size 720x720 with 1 Axes>"
            ]
          },
          "metadata": {
            "tags": [],
            "needs_background": "light"
          }
        }
      ]
    },
    {
      "cell_type": "code",
      "metadata": {
        "id": "nvJNtbvh3JX9",
        "colab_type": "code",
        "colab": {
          "base_uri": "https://localhost:8080/",
          "height": 623
        },
        "outputId": "517caec7-980c-4194-f6e9-f51d7e8ecede"
      },
      "source": [
        "plt.figure(figsize=(10,10))\n",
        "sns.barplot(car_data['MPG-C'],car_data['Price'])"
      ],
      "execution_count": null,
      "outputs": [
        {
          "output_type": "execute_result",
          "data": {
            "text/plain": [
              "<matplotlib.axes._subplots.AxesSubplot at 0x7f5be2c9d080>"
            ]
          },
          "metadata": {
            "tags": []
          },
          "execution_count": 25
        },
        {
          "output_type": "display_data",
          "data": {
            "image/png": "[encoded data removed]",
            "text/plain": [
              "<Figure size 720x720 with 1 Axes>"
            ]
          },
          "metadata": {
            "tags": [],
            "needs_background": "light"
          }
        }
      ]
    },
    {
      "cell_type": "code",
      "metadata": {
        "id": "LBZblLhPIZOX",
        "colab_type": "code",
        "colab": {
          "base_uri": "https://localhost:8080/",
          "height": 623
        },
        "outputId": "4e8c2dc7-c84d-4af6-e45b-bb95bc6cc764"
      },
      "source": [
        "plt.figure(figsize=(10,10))\n",
        "sns.barplot(car_data['Cylinders'],car_data['Price'])"
      ],
      "execution_count": null,
      "outputs": [
        {
          "output_type": "execute_result",
          "data": {
            "text/plain": [
              "<matplotlib.axes._subplots.AxesSubplot at 0x7f5be592ef60>"
            ]
          },
          "metadata": {
            "tags": []
          },
          "execution_count": 26
        },
        {
          "output_type": "display_data",
          "data": {
            "image/png": "[encoded data removed]",
            "text/plain": [
              "<Figure size 720x720 with 1 Axes>"
            ]
          },
          "metadata": {
            "tags": [],
            "needs_background": "light"
          }
        }
      ]
    },
    {
      "cell_type": "markdown",
      "metadata": {
        "id": "hxbCnRP3J7wD",
        "colab_type": "text"
      },
      "source": [
        "**From the above plots we can conclude that all the variables such as Year,Cylinders,MPG-H,MPG-C and Hp have an effect on the required output variable Price.**\n",
        "\n",
        "Where the variables such as Year,Cylinders, HP have an direct relation with the Price where as the variables such as MPG-H,MPG-C has inverse correlation with the Price"
      ]
    },
    {
      "cell_type": "markdown",
      "metadata": {
        "id": "g3I-I4ZNLEad",
        "colab_type": "text"
      },
      "source": [
        "## 9.Developing a Machine Learning model"
      ]
    },
    {
      "cell_type": "code",
      "metadata": {
        "id": "589z5oB6Ipz2",
        "colab_type": "code",
        "colab": {}
      },
      "source": [
        "X=car_data[['Popularity','HP','Cylinders','MPG-C','MPG-H','Year']].values\n",
        "y=car_data['Price'].values\n"
      ],
      "execution_count": null,
      "outputs": []
    },
    {
      "cell_type": "code",
      "metadata": {
        "id": "624KsMM6MbMN",
        "colab_type": "code",
        "colab": {}
      },
      "source": [
        "from sklearn.preprocessing import StandardScaler\n",
        "s=StandardScaler()\n",
        "X=s.fit_transform(X)\n",
        "y=s.fit_transform(y.reshape(-1,1))"
      ],
      "execution_count": null,
      "outputs": []
    },
    {
      "cell_type": "code",
      "metadata": {
        "id": "5zoF842XN48f",
        "colab_type": "code",
        "colab": {}
      },
      "source": [
        "from sklearn.model_selection import train_test_split\n",
        "X_train,X_test,y_train,y_test=train_test_split(X,y,test_size=0.2,random_state=0)"
      ],
      "execution_count": null,
      "outputs": []
    },
    {
      "cell_type": "code",
      "metadata": {
        "id": "TLx1uiiqOu7Z",
        "colab_type": "code",
        "colab": {
          "base_uri": "https://localhost:8080/",
          "height": 282
        },
        "outputId": "87b5495d-daa7-46fb-975b-228a37b05544"
      },
      "source": [
        "from sklearn.linear_model import LinearRegression\n",
        "regressor=LinearRegression()\n",
        "regressor.fit(X_train,y_train)\n",
        "y_pred=regressor.predict(X_test)\n",
        "plt.scatter(y_pred,y_test)"
      ],
      "execution_count": null,
      "outputs": [
        {
          "output_type": "execute_result",
          "data": {
            "text/plain": [
              "<matplotlib.collections.PathCollection at 0x7f5bdc029da0>"
            ]
          },
          "metadata": {
            "tags": []
          },
          "execution_count": 41
        },
        {
          "output_type": "display_data",
          "data": {
            "image/png": "[encoded data removed]",
            "text/plain": [
              "<Figure size 432x288 with 1 Axes>"
            ]
          },
          "metadata": {
            "tags": [],
            "needs_background": "light"
          }
        }
      ]
    },
    {
      "cell_type": "code",
      "metadata": {
        "id": "5cmjOcq_PgPH",
        "colab_type": "code",
        "colab": {
          "base_uri": "https://localhost:8080/",
          "height": 283
        },
        "outputId": "51ff9c68-b699-499c-e247-445fe189752f"
      },
      "source": [
        "sns.distplot(y_test-y_pred,bins=50)"
      ],
      "execution_count": null,
      "outputs": [
        {
          "output_type": "execute_result",
          "data": {
            "text/plain": [
              "<matplotlib.axes._subplots.AxesSubplot at 0x7f5bdc06b5c0>"
            ]
          },
          "metadata": {
            "tags": []
          },
          "execution_count": 42
        },
        {
          "output_type": "display_data",
          "data": {
            "image/png": "[encoded data removed]",
            "text/plain": [
              "<Figure size 432x288 with 1 Axes>"
            ]
          },
          "metadata": {
            "tags": [],
            "needs_background": "light"
          }
        }
      ]
    },
    {
      "cell_type": "code",
      "metadata": {
        "id": "kpYlciKqQWBO",
        "colab_type": "code",
        "colab": {
          "base_uri": "https://localhost:8080/",
          "height": 34
        },
        "outputId": "c4d69ba0-f82c-4b92-9753-ce550cb65dc3"
      },
      "source": [
        "from sklearn import metrics\n",
        "metrics.mean_absolute_error(y_test,y_pred),metrics.r2_score(y_test,y_pred)"
      ],
      "execution_count": null,
      "outputs": [
        {
          "output_type": "execute_result",
          "data": {
            "text/plain": [
              "(0.43590032287632785, 0.6642873418413511)"
            ]
          },
          "metadata": {
            "tags": []
          },
          "execution_count": 43
        }
      ]
    },
    {
      "cell_type": "code",
      "metadata": {
        "id": "qP3TSgq-Rbds",
        "colab_type": "code",
        "colab": {
          "base_uri": "https://localhost:8080/",
          "height": 34
        },
        "outputId": "3d953754-6453-42fa-d8c7-fa4a85f41eb3"
      },
      "source": [
        "from sklearn.tree import DecisionTreeRegressor\n",
        "regressor=DecisionTreeRegressor(random_state=0)\n",
        "regressor.fit(X_train,y_train)\n",
        "y_pred=regressor.predict(X_test)\n",
        "metrics.r2_score(y_test,y_pred)"
      ],
      "execution_count": null,
      "outputs": [
        {
          "output_type": "execute_result",
          "data": {
            "text/plain": [
              "0.9027955348718781"
            ]
          },
          "metadata": {
            "tags": []
          },
          "execution_count": 44
        }
      ]
    },
    {
      "cell_type": "code",
      "metadata": {
        "id": "lPnGe-ayhfVq",
        "colab_type": "code",
        "colab": {
          "base_uri": "https://localhost:8080/",
          "height": 87
        },
        "outputId": "56ab877a-72af-44e2-ca25-f5b98b3cfdd8"
      },
      "source": [
        "from sklearn.ensemble import RandomForestRegressor\n",
        "regressor=RandomForestRegressor(random_state=0)\n",
        "regressor.fit(X_train,y_train)\n",
        "y_pred=regressor.predict(X_test)\n",
        "metrics.r2_score(y_test,y_pred)"
      ],
      "execution_count": null,
      "outputs": [
        {
          "output_type": "stream",
          "text": [
            "/usr/local/lib/python3.6/dist-packages/ipykernel_launcher.py:3: DataConversionWarning: A column-vector y was passed when a 1d array was expected. Please change the shape of y to (n_samples,), for example using ravel().\n",
            "  This is separate from the ipykernel package so we can avoid doing imports until\n"
          ],
          "name": "stderr"
        },
        {
          "output_type": "execute_result",
          "data": {
            "text/plain": [
              "0.925926658896686"
            ]
          },
          "metadata": {
            "tags": []
          },
          "execution_count": 45
        }
      ]
    },
    {
      "cell_type": "code",
      "metadata": {
        "id": "0xYt2BPRjl4X",
        "colab_type": "code",
        "colab": {}
      },
      "source": [
        ""
      ],
      "execution_count": null,
      "outputs": []
    }
  ]
}
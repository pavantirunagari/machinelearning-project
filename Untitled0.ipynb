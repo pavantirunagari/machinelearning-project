{
  "nbformat": 4,
  "nbformat_minor": 0,
  "metadata": {
    "colab": {
      "name": "Untitled0.ipynb",
      "provenance": [],
      "collapsed_sections": [],
      "toc_visible": true
    },
    "kernelspec": {
      "name": "python3",
      "display_name": "Python 3"
    }
  },
  "cells": [
    {
      "cell_type": "markdown",
      "metadata": {
        "id": "OvoTZmAPVmZN",
        "colab_type": "text"
      },
      "source": [
        "# **Exploratory Data Analysis of a Car showroom**"
      ]
    },
    {
      "cell_type": "markdown",
      "metadata": {
        "id": "iPHGLim-V_QX",
        "colab_type": "text"
      },
      "source": [
        "## 1.1 Importing the required libraries"
      ]
    },
    {
      "cell_type": "code",
      "metadata": {
        "id": "2QIDfXucQqYH",
        "colab_type": "code",
        "colab": {
          "base_uri": "https://localhost:8080/",
          "height": 70
        },
        "outputId": "4dade25e-8a38-4476-e031-1dfccf0b6d3c"
      },
      "source": [
        "#importing libraries\n",
        "import numpy as np\n",
        "import pandas as pd\n",
        "import matplotlib.pyplot as plt\n",
        "import seaborn as sns\n",
        "%matplotlib inline"
      ],
      "execution_count": null,
      "outputs": [
        {
          "output_type": "stream",
          "text": [
            "/usr/local/lib/python3.6/dist-packages/statsmodels/tools/_testing.py:19: FutureWarning: pandas.util.testing is deprecated. Use the functions in the public API at pandas.testing instead.\n",
            "  import pandas.util.testing as tm\n"
          ],
          "name": "stderr"
        }
      ]
    },
    {
      "cell_type": "markdown",
      "metadata": {
        "id": "zBHwMMxEWhPd",
        "colab_type": "text"
      },
      "source": [
        "## 1.2 reading the data and underatanding the data"
      ]
    },
    {
      "cell_type": "code",
      "metadata": {
        "id": "utEfjnSTQ0vW",
        "colab_type": "code",
        "colab": {
          "base_uri": "https://localhost:8080/",
          "height": 202
        },
        "outputId": "170a131c-1ceb-4331-dfed-09263df21bd1"
      },
      "source": [
        "# reading data into the pandas as car_data\n",
        "car_data=pd.read_csv(\"/content/data.csv\")\n",
        "#reading the shape and checking the statistical summary\n",
        "car_data.describe(),car_data.shape"
      ],
      "execution_count": null,
      "outputs": [
        {
          "output_type": "execute_result",
          "data": {
            "text/plain": [
              "(               Year    Engine HP  ...    Popularity          MSRP\n",
              " count  11914.000000  11845.00000  ...  11914.000000  1.191400e+04\n",
              " mean    2010.384338    249.38607  ...   1554.911197  4.059474e+04\n",
              " std        7.579740    109.19187  ...   1441.855347  6.010910e+04\n",
              " min     1990.000000     55.00000  ...      2.000000  2.000000e+03\n",
              " 25%     2007.000000    170.00000  ...    549.000000  2.100000e+04\n",
              " 50%     2015.000000    227.00000  ...   1385.000000  2.999500e+04\n",
              " 75%     2016.000000    300.00000  ...   2009.000000  4.223125e+04\n",
              " max     2017.000000   1001.00000  ...   5657.000000  2.065902e+06\n",
              " \n",
              " [8 rows x 8 columns], (11914, 16))"
            ]
          },
          "metadata": {
            "tags": []
          },
          "execution_count": 2
        }
      ]
    },
    {
      "cell_type": "markdown",
      "metadata": {
        "id": "dn11v9RvW9zq",
        "colab_type": "text"
      },
      "source": [
        "## 2.Getting the basic information of data "
      ]
    },
    {
      "cell_type": "markdown",
      "metadata": {
        "id": "Y4ncfNMBXaKv",
        "colab_type": "text"
      },
      "source": [
        "**Here we will see the what is the datatype of each row and no of non null values.Also we can know the names of each coloumn**"
      ]
    },
    {
      "cell_type": "code",
      "metadata": {
        "id": "5Q0nTNDA_vYb",
        "colab_type": "code",
        "colab": {
          "base_uri": "https://localhost:8080/",
          "height": 403
        },
        "outputId": "0cf02897-bbeb-4d22-aaaf-4cd75533a6a4"
      },
      "source": [
        "car_data.info()"
      ],
      "execution_count": null,
      "outputs": [
        {
          "output_type": "stream",
          "text": [
            "<class 'pandas.core.frame.DataFrame'>\n",
            "RangeIndex: 11914 entries, 0 to 11913\n",
            "Data columns (total 16 columns):\n",
            " #   Column             Non-Null Count  Dtype  \n",
            "---  ------             --------------  -----  \n",
            " 0   Make               11914 non-null  object \n",
            " 1   Model              11914 non-null  object \n",
            " 2   Year               11914 non-null  int64  \n",
            " 3   Engine Fuel Type   11911 non-null  object \n",
            " 4   Engine HP          11845 non-null  float64\n",
            " 5   Engine Cylinders   11884 non-null  float64\n",
            " 6   Transmission Type  11914 non-null  object \n",
            " 7   Driven_Wheels      11914 non-null  object \n",
            " 8   Number of Doors    11908 non-null  float64\n",
            " 9   Market Category    8172 non-null   object \n",
            " 10  Vehicle Size       11914 non-null  object \n",
            " 11  Vehicle Style      11914 non-null  object \n",
            " 12  highway MPG        11914 non-null  int64  \n",
            " 13  city mpg           11914 non-null  int64  \n",
            " 14  Popularity         11914 non-null  int64  \n",
            " 15  MSRP               11914 non-null  int64  \n",
            "dtypes: float64(3), int64(5), object(8)\n",
            "memory usage: 1.5+ MB\n"
          ],
          "name": "stdout"
        }
      ]
    },
    {
      "cell_type": "markdown",
      "metadata": {
        "id": "pcnLMEhJYWHd",
        "colab_type": "text"
      },
      "source": [
        "**By observing the non null values we can see that the column Market Catogery has the more number of null values.So it is better to drop out this column.And by observing the columns we can know that the number of rows and engine fuel type also didn't show impact on the model.So we can drop those as well**"
      ]
    },
    {
      "cell_type": "code",
      "metadata": {
        "id": "AjCGhS4IAJwz",
        "colab_type": "code",
        "colab": {
          "base_uri": "https://localhost:8080/",
          "height": 353
        },
        "outputId": "4e00df8c-4053-4699-a161-f52589c1b008"
      },
      "source": [
        "car_data=car_data.drop(columns=[\"Market Category\",\"Number of Doors\",\"Engine Fuel Type\"])\n",
        "car_data.info()"
      ],
      "execution_count": null,
      "outputs": [
        {
          "output_type": "stream",
          "text": [
            "<class 'pandas.core.frame.DataFrame'>\n",
            "RangeIndex: 11914 entries, 0 to 11913\n",
            "Data columns (total 13 columns):\n",
            " #   Column             Non-Null Count  Dtype  \n",
            "---  ------             --------------  -----  \n",
            " 0   Make               11914 non-null  object \n",
            " 1   Model              11914 non-null  object \n",
            " 2   Year               11914 non-null  int64  \n",
            " 3   Engine HP          11845 non-null  float64\n",
            " 4   Engine Cylinders   11884 non-null  float64\n",
            " 5   Transmission Type  11914 non-null  object \n",
            " 6   Driven_Wheels      11914 non-null  object \n",
            " 7   Vehicle Size       11914 non-null  object \n",
            " 8   Vehicle Style      11914 non-null  object \n",
            " 9   highway MPG        11914 non-null  int64  \n",
            " 10  city mpg           11914 non-null  int64  \n",
            " 11  Popularity         11914 non-null  int64  \n",
            " 12  MSRP               11914 non-null  int64  \n",
            "dtypes: float64(2), int64(5), object(6)\n",
            "memory usage: 1.2+ MB\n"
          ],
          "name": "stdout"
        }
      ]
    },
    {
      "cell_type": "markdown",
      "metadata": {
        "id": "PHtjP_-jZScr",
        "colab_type": "text"
      },
      "source": [
        "## 3.Renaming the columns"
      ]
    },
    {
      "cell_type": "code",
      "metadata": {
        "id": "oWDwz5qiE08Q",
        "colab_type": "code",
        "colab": {
          "base_uri": "https://localhost:8080/",
          "height": 353
        },
        "outputId": "08d7c199-10bf-4062-f870-c04f0309e3aa"
      },
      "source": [
        "car_data.rename(columns={'Engine HP':'HP','Engine Cylinders':'Cylinders','Transmission Type':'Transmission','Driven_Wheels':'Drive Mode','highway MPG':'MPG-H','city mpg':'MPG-C','MSRP':'Price'},inplace=True)\n",
        "car_data.info()"
      ],
      "execution_count": null,
      "outputs": [
        {
          "output_type": "stream",
          "text": [
            "<class 'pandas.core.frame.DataFrame'>\n",
            "RangeIndex: 11914 entries, 0 to 11913\n",
            "Data columns (total 13 columns):\n",
            " #   Column         Non-Null Count  Dtype  \n",
            "---  ------         --------------  -----  \n",
            " 0   Make           11914 non-null  object \n",
            " 1   Model          11914 non-null  object \n",
            " 2   Year           11914 non-null  int64  \n",
            " 3   HP             11845 non-null  float64\n",
            " 4   Cylinders      11884 non-null  float64\n",
            " 5   Transmission   11914 non-null  object \n",
            " 6   Drive Mode     11914 non-null  object \n",
            " 7   Vehicle Size   11914 non-null  object \n",
            " 8   Vehicle Style  11914 non-null  object \n",
            " 9   MPG-H          11914 non-null  int64  \n",
            " 10  MPG-C          11914 non-null  int64  \n",
            " 11  Popularity     11914 non-null  int64  \n",
            " 12  Price          11914 non-null  int64  \n",
            "dtypes: float64(2), int64(5), object(6)\n",
            "memory usage: 1.2+ MB\n"
          ],
          "name": "stdout"
        }
      ]
    },
    {
      "cell_type": "markdown",
      "metadata": {
        "id": "I3296OxvZp9K",
        "colab_type": "text"
      },
      "source": [
        "## 4.1 Checking for any duplicate values"
      ]
    },
    {
      "cell_type": "code",
      "metadata": {
        "id": "mg1bx6Fu1FO1",
        "colab_type": "code",
        "colab": {
          "base_uri": "https://localhost:8080/",
          "height": 252
        },
        "outputId": "4c1c18cb-923b-4b15-9338-08ee954ae041"
      },
      "source": [
        "car_data_duplicate=car_data[car_data.duplicated()]\n",
        "car_data_duplicate,car_data_duplicate.shape"
      ],
      "execution_count": null,
      "outputs": [
        {
          "output_type": "execute_result",
          "data": {
            "text/plain": [
              "(         Make     Model  Year     HP  ...  MPG-H MPG-C Popularity  Price\n",
              " 14        BMW  1 Series  2013  230.0  ...     28    19       3916  31500\n",
              " 18       Audi       100  1992  172.0  ...     24    17       3105   2000\n",
              " 20       Audi       100  1992  172.0  ...     24    17       3105   2000\n",
              " 24       Audi       100  1993  172.0  ...     24    17       3105   2000\n",
              " 25       Audi       100  1993  172.0  ...     24    17       3105   2000\n",
              " ...       ...       ...   ...    ...  ...    ...   ...        ...    ...\n",
              " 11481  Suzuki      X-90  1998   95.0  ...     26    22        481   2000\n",
              " 11603   Volvo      XC60  2017  302.0  ...     29    20        870  46350\n",
              " 11604   Volvo      XC60  2017  240.0  ...     30    23        870  40950\n",
              " 11708  Suzuki       XL7  2008  252.0  ...     22    15        481  29149\n",
              " 11717  Suzuki       XL7  2008  252.0  ...     22    16        481  27499\n",
              " \n",
              " [792 rows x 13 columns], (792, 13))"
            ]
          },
          "metadata": {
            "tags": []
          },
          "execution_count": 6
        }
      ]
    },
    {
      "cell_type": "markdown",
      "metadata": {
        "id": "LycAoBwvZ-t1",
        "colab_type": "text"
      },
      "source": [
        "## 4.2 Removing the duplicates"
      ]
    },
    {
      "cell_type": "code",
      "metadata": {
        "id": "8O63rBOt6DRF",
        "colab_type": "code",
        "colab": {
          "base_uri": "https://localhost:8080/",
          "height": 353
        },
        "outputId": "07fdb0e3-e0f7-4453-e787-2582ecc442e5"
      },
      "source": [
        "car_data.drop_duplicates(inplace=True)\n",
        "car_data.info()"
      ],
      "execution_count": null,
      "outputs": [
        {
          "output_type": "stream",
          "text": [
            "<class 'pandas.core.frame.DataFrame'>\n",
            "Int64Index: 11122 entries, 0 to 11913\n",
            "Data columns (total 13 columns):\n",
            " #   Column         Non-Null Count  Dtype  \n",
            "---  ------         --------------  -----  \n",
            " 0   Make           11122 non-null  object \n",
            " 1   Model          11122 non-null  object \n",
            " 2   Year           11122 non-null  int64  \n",
            " 3   HP             11053 non-null  float64\n",
            " 4   Cylinders      11092 non-null  float64\n",
            " 5   Transmission   11122 non-null  object \n",
            " 6   Drive Mode     11122 non-null  object \n",
            " 7   Vehicle Size   11122 non-null  object \n",
            " 8   Vehicle Style  11122 non-null  object \n",
            " 9   MPG-H          11122 non-null  int64  \n",
            " 10  MPG-C          11122 non-null  int64  \n",
            " 11  Popularity     11122 non-null  int64  \n",
            " 12  Price          11122 non-null  int64  \n",
            "dtypes: float64(2), int64(5), object(6)\n",
            "memory usage: 1.2+ MB\n"
          ],
          "name": "stdout"
        }
      ]
    },
    {
      "cell_type": "markdown",
      "metadata": {
        "id": "XyZtQg7NaQXd",
        "colab_type": "text"
      },
      "source": [
        "## 4.3 Filling the nan values"
      ]
    },
    {
      "cell_type": "markdown",
      "metadata": {
        "id": "x4lyeVhuag0X",
        "colab_type": "text"
      },
      "source": [
        "**As we can see from the above info there are some nan values in the data.For constructing a machine learning model there should not be any nan value present in the data.We can remove the nan values.But instead of removing if we replace the nan valuesit gives more data for the machine model to give more accuracy**"
      ]
    },
    {
      "cell_type": "code",
      "metadata": {
        "id": "lQHecmaj6qfz",
        "colab_type": "code",
        "colab": {
          "base_uri": "https://localhost:8080/",
          "height": 353
        },
        "outputId": "80045476-ab85-4acf-ed42-f39132569a6f"
      },
      "source": [
        "car_data.fillna(method='ffill',inplace=True)\n",
        "car_data.info()"
      ],
      "execution_count": null,
      "outputs": [
        {
          "output_type": "stream",
          "text": [
            "<class 'pandas.core.frame.DataFrame'>\n",
            "Int64Index: 11122 entries, 0 to 11913\n",
            "Data columns (total 13 columns):\n",
            " #   Column         Non-Null Count  Dtype  \n",
            "---  ------         --------------  -----  \n",
            " 0   Make           11122 non-null  object \n",
            " 1   Model          11122 non-null  object \n",
            " 2   Year           11122 non-null  int64  \n",
            " 3   HP             11122 non-null  float64\n",
            " 4   Cylinders      11122 non-null  float64\n",
            " 5   Transmission   11122 non-null  object \n",
            " 6   Drive Mode     11122 non-null  object \n",
            " 7   Vehicle Size   11122 non-null  object \n",
            " 8   Vehicle Style  11122 non-null  object \n",
            " 9   MPG-H          11122 non-null  int64  \n",
            " 10  MPG-C          11122 non-null  int64  \n",
            " 11  Popularity     11122 non-null  int64  \n",
            " 12  Price          11122 non-null  int64  \n",
            "dtypes: float64(2), int64(5), object(6)\n",
            "memory usage: 1.2+ MB\n"
          ],
          "name": "stdout"
        }
      ]
    },
    {
      "cell_type": "markdown",
      "metadata": {
        "id": "4uKHXJxic8ik",
        "colab_type": "text"
      },
      "source": [
        "## 5.Box plotting to check outliers and removing outliers"
      ]
    },
    {
      "cell_type": "code",
      "metadata": {
        "id": "l56OcS6u8xkM",
        "colab_type": "code",
        "colab": {
          "base_uri": "https://localhost:8080/",
          "height": 296
        },
        "outputId": "91e88bb9-2347-41c0-f7de-d8140d9e299f"
      },
      "source": [
        "sns.boxplot(car_data['HP'])\n"
      ],
      "execution_count": null,
      "outputs": [
        {
          "output_type": "execute_result",
          "data": {
            "text/plain": [
              "<matplotlib.axes._subplots.AxesSubplot at 0x7fc61f862518>"
            ]
          },
          "metadata": {
            "tags": []
          },
          "execution_count": 10
        },
        {
          "output_type": "display_data",
          "data": {
            "image/png": "[encoded data removed]",
            "text/plain": [
              "<Figure size 432x288 with 1 Axes>"
            ]
          },
          "metadata": {
            "tags": [],
            "needs_background": "light"
          }
        }
      ]
    },
    {
      "cell_type": "code",
      "metadata": {
        "id": "HUB1b_M4xC7P",
        "colab_type": "code",
        "colab": {
          "base_uri": "https://localhost:8080/",
          "height": 296
        },
        "outputId": "6d52da34-ad0f-42af-828a-667b22a6539e"
      },
      "source": [
        "sns.boxplot(car_data['Cylinders'])"
      ],
      "execution_count": null,
      "outputs": [
        {
          "output_type": "execute_result",
          "data": {
            "text/plain": [
              "<matplotlib.axes._subplots.AxesSubplot at 0x7fc61f37f6d8>"
            ]
          },
          "metadata": {
            "tags": []
          },
          "execution_count": 11
        },
        {
          "output_type": "display_data",
          "data": {
            "image/png": "[encoded data removed]",
            "text/plain": [
              "<Figure size 432x288 with 1 Axes>"
            ]
          },
          "metadata": {
            "tags": [],
            "needs_background": "light"
          }
        }
      ]
    },
    {
      "cell_type": "code",
      "metadata": {
        "id": "dFqOHIUnxLey",
        "colab_type": "code",
        "colab": {
          "base_uri": "https://localhost:8080/",
          "height": 296
        },
        "outputId": "8d1ee8c3-71c4-4c75-8303-96854da39333"
      },
      "source": [
        "sns.boxplot(car_data['MPG-H'])"
      ],
      "execution_count": null,
      "outputs": [
        {
          "output_type": "execute_result",
          "data": {
            "text/plain": [
              "<matplotlib.axes._subplots.AxesSubplot at 0x7fc61f2f5400>"
            ]
          },
          "metadata": {
            "tags": []
          },
          "execution_count": 12
        },
        {
          "output_type": "display_data",
          "data": {
            "image/png": "[encoded data removed]",
            "text/plain": [
              "<Figure size 432x288 with 1 Axes>"
            ]
          },
          "metadata": {
            "tags": [],
            "needs_background": "light"
          }
        }
      ]
    },
    {
      "cell_type": "code",
      "metadata": {
        "id": "ovVKFZD2xfLN",
        "colab_type": "code",
        "colab": {
          "base_uri": "https://localhost:8080/",
          "height": 296
        },
        "outputId": "362ae365-c2ac-407b-c362-79169a755689"
      },
      "source": [
        "sns.boxplot(car_data['MPG-C'])"
      ],
      "execution_count": null,
      "outputs": [
        {
          "output_type": "execute_result",
          "data": {
            "text/plain": [
              "<matplotlib.axes._subplots.AxesSubplot at 0x7fc61f2dd710>"
            ]
          },
          "metadata": {
            "tags": []
          },
          "execution_count": 13
        },
        {
          "output_type": "display_data",
          "data": {
            "image/png": "[encoded data removed]",
            "text/plain": [
              "<Figure size 432x288 with 1 Axes>"
            ]
          },
          "metadata": {
            "tags": [],
            "needs_background": "light"
          }
        }
      ]
    },
    {
      "cell_type": "code",
      "metadata": {
        "id": "TFgdFC8WxmJ1",
        "colab_type": "code",
        "colab": {
          "base_uri": "https://localhost:8080/",
          "height": 296
        },
        "outputId": "19418b3f-715a-4b87-e5c7-2f63eba87d2b"
      },
      "source": [
        "sns.boxplot(car_data['Popularity'])"
      ],
      "execution_count": null,
      "outputs": [
        {
          "output_type": "execute_result",
          "data": {
            "text/plain": [
              "<matplotlib.axes._subplots.AxesSubplot at 0x7fc61f23ce48>"
            ]
          },
          "metadata": {
            "tags": []
          },
          "execution_count": 14
        },
        {
          "output_type": "display_data",
          "data": {
            "image/png": "[encoded data removed]",
            "text/plain": [
              "<Figure size 432x288 with 1 Axes>"
            ]
          },
          "metadata": {
            "tags": [],
            "needs_background": "light"
          }
        }
      ]
    },
    {
      "cell_type": "code",
      "metadata": {
        "id": "5fmGK7Zrx86t",
        "colab_type": "code",
        "colab": {
          "base_uri": "https://localhost:8080/",
          "height": 296
        },
        "outputId": "9a04a8d6-2a98-40b6-e00d-244430962876"
      },
      "source": [
        "sns.boxplot(car_data['Price'])"
      ],
      "execution_count": null,
      "outputs": [
        {
          "output_type": "execute_result",
          "data": {
            "text/plain": [
              "<matplotlib.axes._subplots.AxesSubplot at 0x7fc61f38b320>"
            ]
          },
          "metadata": {
            "tags": []
          },
          "execution_count": 15
        },
        {
          "output_type": "display_data",
          "data": {
            "image/png": "[encoded data removed]",
            "text/plain": [
              "<Figure size 432x288 with 1 Axes>"
            ]
          },
          "metadata": {
            "tags": [],
            "needs_background": "light"
          }
        }
      ]
    },
    {
      "cell_type": "code",
      "metadata": {
        "id": "uabnGNXtyCnz",
        "colab_type": "code",
        "colab": {
          "base_uri": "https://localhost:8080/",
          "height": 34
        },
        "outputId": "039fae53-c62a-4793-cdc7-aa1cdc07e10b"
      },
      "source": [
        "Q1=car_data.quantile(0.25)\n",
        "Q2=car_data.quantile(0.75)\n",
        "IQR=Q2-Q1\n",
        "car_data=car_data[~((car_data<(Q1-1.5*IQR))|(car_data>(Q2+1.5*IQR))).any(axis=1)]\n",
        "car_data.shape"
      ],
      "execution_count": null,
      "outputs": [
        {
          "output_type": "execute_result",
          "data": {
            "text/plain": [
              "(8576, 13)"
            ]
          },
          "metadata": {
            "tags": []
          },
          "execution_count": 17
        }
      ]
    },
    {
      "cell_type": "code",
      "metadata": {
        "id": "s5QqoSjH3up5",
        "colab_type": "code",
        "colab": {}
      },
      "source": [
        ""
      ],
      "execution_count": null,
      "outputs": []
    }
  ]
}